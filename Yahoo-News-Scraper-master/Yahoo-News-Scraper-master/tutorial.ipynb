{
 "cells": [
  {
   "cell_type": "markdown",
   "metadata": {},
   "source": [
    "# Yahoo! News Scraper"
   ]
  },
  {
   "cell_type": "code",
   "execution_count": 1,
   "metadata": {},
   "outputs": [],
   "source": [
    "import re\n",
    "import csv\n",
    "from time import sleep\n",
    "from bs4 import BeautifulSoup\n",
    "import requests"
   ]
  },
  {
   "cell_type": "markdown",
   "metadata": {},
   "source": [
    "#### Setup the url template and request headers"
   ]
  },
  {
   "cell_type": "code",
   "execution_count": 2,
   "metadata": {},
   "outputs": [],
   "source": [
    "template = 'https://news.search.yahoo.com/search?p={}'"
   ]
  },
  {
   "cell_type": "code",
   "execution_count": 3,
   "metadata": {},
   "outputs": [],
   "source": [
    "url = template.format('iphone 12 leaked')"
   ]
  },
  {
   "cell_type": "code",
   "execution_count": 4,
   "metadata": {},
   "outputs": [],
   "source": [
    "headers = {\n",
    "    'accept': '*/*',\n",
    "    'accept-encoding': 'gzip, deflate, br',\n",
    "    'accept-language': 'en-US,en;q=0.9',\n",
    "    'referer': 'https://www.google.com',\n",
    "    'user-agent': 'Mozilla/5.0 (Windows NT 10.0; Win64; x64) AppleWebKit/537.36 (KHTML, like Gecko) Chrome/85.0.4183.83 Safari/537.36 Edg/85.0.564.44'\n",
    "}"
   ]
  },
  {
   "cell_type": "markdown",
   "metadata": {},
   "source": [
    "#### Get the collection of articles"
   ]
  },
  {
   "cell_type": "code",
   "execution_count": 5,
   "metadata": {},
   "outputs": [],
   "source": [
    "response = requests.get(url, headers=headers)"
   ]
  },
  {
   "cell_type": "code",
   "execution_count": 6,
   "metadata": {},
   "outputs": [],
   "source": [
    "soup = BeautifulSoup(response.text, 'html.parser')"
   ]
  },
  {
   "cell_type": "code",
   "execution_count": 7,
   "metadata": {},
   "outputs": [],
   "source": [
    "cards = soup.find_all('div', 'NewsArticle')"
   ]
  },
  {
   "cell_type": "code",
   "execution_count": 8,
   "metadata": {},
   "outputs": [
    {
     "data": {
      "text/plain": [
       "10"
      ]
     },
     "execution_count": 8,
     "metadata": {},
     "output_type": "execute_result"
    }
   ],
   "source": [
    "len(cards)"
   ]
  },
  {
   "cell_type": "markdown",
   "metadata": {},
   "source": [
    "#### Create a prototype model for extracting article data"
   ]
  },
  {
   "cell_type": "code",
   "execution_count": 9,
   "metadata": {},
   "outputs": [],
   "source": [
    "card = cards[5]"
   ]
  },
  {
   "cell_type": "code",
   "execution_count": 10,
   "metadata": {},
   "outputs": [],
   "source": [
    "headline = card.find('h4', 's-title').text"
   ]
  },
  {
   "cell_type": "code",
   "execution_count": 11,
   "metadata": {},
   "outputs": [],
   "source": [
    "source = card.find(\"span\", 's-source').text"
   ]
  },
  {
   "cell_type": "code",
   "execution_count": 12,
   "metadata": {},
   "outputs": [],
   "source": [
    "posted = card.find('span', 's-time').text.replace('·', '').strip()"
   ]
  },
  {
   "cell_type": "code",
   "execution_count": 13,
   "metadata": {},
   "outputs": [],
   "source": [
    "description = card.find('p', 's-desc').text.strip()"
   ]
  },
  {
   "cell_type": "markdown",
   "metadata": {},
   "source": [
    "The url needs a little more cleaning... the original URL is hiding inside the Yahoo! News link"
   ]
  },
  {
   "cell_type": "code",
   "execution_count": 14,
   "metadata": {},
   "outputs": [
    {
     "data": {
      "text/plain": [
       "'https://r.search.yahoo.com/_ylt=AwrC0CP4OXVfWXEAegHQtDMD;_ylu=Y29sbwNiZjEEcG9zAzYEdnRpZAMEc2VjA3Ny/RV=2/RE=1601546872/RO=10/RU=https%3a%2f%2fwww.ibtimes.com%2fapple-rumors-iphone-12-may-not-come-earpods-box-report-says-3054323/RK=2/RS=LzK2Rj4LT8D9wvTORmd4NlpBF34-'"
      ]
     },
     "execution_count": 14,
     "metadata": {},
     "output_type": "execute_result"
    }
   ],
   "source": [
    "raw_link = card.find('a').get('href')\n",
    "raw_link"
   ]
  },
  {
   "cell_type": "code",
   "execution_count": 15,
   "metadata": {},
   "outputs": [
    {
     "data": {
      "text/plain": [
       "'https://r.search.yahoo.com/_ylt=AwrC0CP4OXVfWXEAegHQtDMD;_ylu=Y29sbwNiZjEEcG9zAzYEdnRpZAMEc2VjA3Ny/RV=2/RE=1601546872/RO=10/RU=https://www.ibtimes.com/apple-rumors-iphone-12-may-not-come-earpods-box-report-says-3054323/RK=2/RS=LzK2Rj4LT8D9wvTORmd4NlpBF34-'"
      ]
     },
     "execution_count": 15,
     "metadata": {},
     "output_type": "execute_result"
    }
   ],
   "source": [
    "unquoted_link = requests.utils.unquote(raw_link)\n",
    "unquoted_link"
   ]
  },
  {
   "cell_type": "code",
   "execution_count": 16,
   "metadata": {},
   "outputs": [
    {
     "data": {
      "text/plain": [
       "'https://www.ibtimes.com/apple-rumors-iphone-12-may-not-come-earpods-box-report-says-3054323'"
      ]
     },
     "execution_count": 16,
     "metadata": {},
     "output_type": "execute_result"
    }
   ],
   "source": [
    "pattern = re.compile(r'RU=(.+)\\/RK')\n",
    "clean_link = re.search(pattern, unquoted_link).group(1)\n",
    "clean_link"
   ]
  },
  {
   "cell_type": "markdown",
   "metadata": {},
   "source": [
    "#### Generalize the model"
   ]
  },
  {
   "cell_type": "code",
   "execution_count": 17,
   "metadata": {},
   "outputs": [],
   "source": [
    "def get_article(card):\n",
    "    \"\"\"Extract article information from the raw html\"\"\"\n",
    "    headline = card.find('h4', 's-title').text\n",
    "    source = card.find(\"span\", 's-source').text\n",
    "    posted = card.find('span', 's-time').text.replace('·', '').strip()\n",
    "    description = card.find('p', 's-desc').text.strip()\n",
    "    raw_link = card.find('a').get('href')\n",
    "    unquoted_link = requests.utils.unquote(raw_link)\n",
    "    pattern = re.compile(r'RU=(.+)\\/RK')\n",
    "    clean_link = re.search(pattern, unquoted_link).group(1)\n",
    "    \n",
    "    article = (headline, source, posted, description, clean_link)\n",
    "    return article"
   ]
  },
  {
   "cell_type": "code",
   "execution_count": 18,
   "metadata": {},
   "outputs": [],
   "source": [
    "articles = []\n",
    "links = set()\n",
    "\n",
    "for card in cards:\n",
    "    article = get_article(card)\n",
    "    link = article[-1]\n",
    "    if not link in links:\n",
    "        links.add(link)\n",
    "        articles.append(article)"
   ]
  },
  {
   "cell_type": "code",
   "execution_count": 19,
   "metadata": {},
   "outputs": [
    {
     "data": {
      "text/plain": [
       "[('iPhone 12 and iPhone 12 Pro: Everything we know about Apple’s new phones',\n",
       "  'Digital Trends via Yahoo Finance',\n",
       "  '11 hours ago',\n",
       "  'This year, it’s going to be the latter — considering Apple’s September 15 hardware event has come...',\n",
       "  'https://finance.yahoo.com/news/iphone-12-coming-fall-everything-185615475.html'),\n",
       " ('iPhone 12 Mini, iPhone 12 And iPhone 12 Pro Storage Configurations Leaked',\n",
       "  'International Business Times',\n",
       "  '14 hours ago',\n",
       "  \"Rumors about Apple's upcoming iPhone 12 series handsets abound as the Cupertino tech giant has yet...\",\n",
       "  'https://www.ibtimes.com/iphone-12-mini-iphone-12-iphone-12-pro-storage-configurations-leaked-3054361'),\n",
       " ('The first iPhone 12 models to launch next month just leaked',\n",
       "  'BGR',\n",
       "  '2 days ago',\n",
       "  'The first iPhone 12 versions to launch in stores in October might be the cheapest models, according...',\n",
       "  'https://bgr.com/2020/09/29/iphone-12-release-date-models-apple-event-october-13th-rumor/'),\n",
       " ('Apple Accident Confirms New iPhone 12, iPhone 12 Pro Releases',\n",
       "  'Forbes',\n",
       "  '4 days ago',\n",
       "  'Almost every detail about the iPhone 12 line-up has leaked, from their external redesign to their...',\n",
       "  'https://www.forbes.com/sites/gordonkelly/2020/09/27/apple-iphone-12-pro-max-mini-release-upgrade-iphone-11-pro-max/'),\n",
       " ('iPhone 12 To Feature 64GB Base Storage, iPhone 12 Pro to Start With 128GB, Claims Leaker',\n",
       "  'Wccftech',\n",
       "  '2 days ago',\n",
       "  'Recent rumors point out that Apple will be hosting its iPhone 12 event on October 13th. If these...',\n",
       "  'https://wccftech.com/iphone-12-to-feature-64gb-base-storage-iphone-12-pro-to-start-with-128gb-claims-leaker/')]"
      ]
     },
     "execution_count": 19,
     "metadata": {},
     "output_type": "execute_result"
    }
   ],
   "source": [
    "articles[:5]"
   ]
  },
  {
   "cell_type": "markdown",
   "metadata": {},
   "source": [
    "#### Get the next page"
   ]
  },
  {
   "cell_type": "code",
   "execution_count": 20,
   "metadata": {},
   "outputs": [
    {
     "data": {
      "text/plain": [
       "'https://news.search.yahoo.com/search;_ylt=AwrC0CP4OXVfWXEAhgHQtDMD;_ylu=Y29sbwNiZjEEcG9zAzEEdnRpZAMEc2VjA3BhZ2luYXRpb24-?p=iphone+12+leaked&b=11&pz=10&bct=0&xargs=0'"
      ]
     },
     "execution_count": 20,
     "metadata": {},
     "output_type": "execute_result"
    }
   ],
   "source": [
    "url = soup.find('a', 'next').get('href')\n",
    "url"
   ]
  },
  {
   "cell_type": "markdown",
   "metadata": {},
   "source": [
    "#### Bringing it all together"
   ]
  },
  {
   "cell_type": "code",
   "execution_count": 21,
   "metadata": {},
   "outputs": [],
   "source": [
    "import re\n",
    "import csv\n",
    "from time import sleep\n",
    "from bs4 import BeautifulSoup\n",
    "import requests\n",
    "\n",
    "headers = {\n",
    "    'accept': '*/*',\n",
    "    'accept-encoding': 'gzip, deflate, br',\n",
    "    'accept-language': 'en-US,en;q=0.9',\n",
    "    'referer': 'https://www.google.com',\n",
    "    'user-agent': 'Mozilla/5.0 (Windows NT 10.0; Win64; x64) AppleWebKit/537.36 (KHTML, like Gecko) Chrome/85.0.4183.83 Safari/537.36 Edg/85.0.564.44'\n",
    "}\n",
    "\n",
    "def get_article(card):\n",
    "    \"\"\"Extract article information from the raw html\"\"\"\n",
    "    headline = card.find('h4', 's-title').text\n",
    "    source = card.find(\"span\", 's-source').text\n",
    "    posted = card.find('span', 's-time').text.replace('·', '').strip()\n",
    "    description = card.find('p', 's-desc').text.strip()\n",
    "    raw_link = card.find('a').get('href')\n",
    "    unquoted_link = requests.utils.unquote(raw_link)\n",
    "    pattern = re.compile(r'RU=(.+)\\/RK')\n",
    "    clean_link = re.search(pattern, unquoted_link).group(1)\n",
    "    \n",
    "    article = (headline, source, posted, description, clean_link)\n",
    "    return article\n",
    "\n",
    "def get_the_news(search):\n",
    "    \"\"\"Run the main program\"\"\"\n",
    "    template = 'https://news.search.yahoo.com/search?p={}'\n",
    "    url = template.format(search)\n",
    "    articles = []\n",
    "    links = set()\n",
    "    \n",
    "    while True:\n",
    "        response = requests.get(url, headers=headers)\n",
    "        soup = BeautifulSoup(response.text, 'html.parser')\n",
    "        cards = soup.find_all('div', 'NewsArticle')\n",
    "        \n",
    "        # extract articles from page\n",
    "        for card in cards:\n",
    "            article = get_article(card)\n",
    "            link = article[-1]\n",
    "            if not link in links:\n",
    "                links.add(link)\n",
    "                articles.append(article)        \n",
    "                \n",
    "        # find the next page\n",
    "        try:\n",
    "            url = soup.find('a', 'next').get('href')\n",
    "            sleep(1)\n",
    "        except AttributeError:\n",
    "            break\n",
    "            \n",
    "    # save article data\n",
    "    with open('results.csv', 'w', newline='', encoding='utf-8') as f:\n",
    "        writer = csv.writer(f)\n",
    "        writer.writerow(['Headline', 'Source', 'Posted', 'Description', 'Link'])\n",
    "        writer.writerows(articles)\n",
    "        \n",
    "    return articles"
   ]
  },
  {
   "cell_type": "code",
   "execution_count": 22,
   "metadata": {},
   "outputs": [],
   "source": [
    "articles = get_the_news('iphone 12 leaked')"
   ]
  },
  {
   "cell_type": "code",
   "execution_count": 23,
   "metadata": {},
   "outputs": [
    {
     "data": {
      "text/plain": [
       "[('iPhone 12 and iPhone 12 Pro: Everything we know about Apple’s new phones',\n",
       "  'Digital Trends via Yahoo Finance',\n",
       "  '11 hours ago',\n",
       "  'This year, it’s going to be the latter — considering Apple’s September 15 hardware event has come...',\n",
       "  'https://finance.yahoo.com/news/iphone-12-coming-fall-everything-185615475.html'),\n",
       " ('iPhone 12 Mini, iPhone 12 And iPhone 12 Pro Storage Configurations Leaked',\n",
       "  'International Business Times',\n",
       "  '14 hours ago',\n",
       "  \"Rumors about Apple's upcoming iPhone 12 series handsets abound as the Cupertino tech giant has yet...\",\n",
       "  'https://www.ibtimes.com/iphone-12-mini-iphone-12-iphone-12-pro-storage-configurations-leaked-3054361'),\n",
       " ('The first iPhone 12 models to launch next month just leaked',\n",
       "  'BGR',\n",
       "  '2 days ago',\n",
       "  'The first iPhone 12 versions to launch in stores in October might be the cheapest models, according...',\n",
       "  'https://bgr.com/2020/09/29/iphone-12-release-date-models-apple-event-october-13th-rumor/'),\n",
       " ('Apple Accident Confirms New iPhone 12, iPhone 12 Pro Releases',\n",
       "  'Forbes',\n",
       "  '4 days ago',\n",
       "  'Almost every detail about the iPhone 12 line-up has leaked, from their external redesign to their...',\n",
       "  'https://www.forbes.com/sites/gordonkelly/2020/09/27/apple-iphone-12-pro-max-mini-release-upgrade-iphone-11-pro-max/'),\n",
       " ('iPhone 12 To Feature 64GB Base Storage, iPhone 12 Pro to Start With 128GB, Claims Leaker',\n",
       "  'Wccftech',\n",
       "  '2 days ago',\n",
       "  'Recent rumors point out that Apple will be hosting its iPhone 12 event on October 13th. If these...',\n",
       "  'https://wccftech.com/iphone-12-to-feature-64gb-base-storage-iphone-12-pro-to-start-with-128gb-claims-leaker/')]"
      ]
     },
     "execution_count": 23,
     "metadata": {},
     "output_type": "execute_result"
    }
   ],
   "source": [
    "articles[:5]"
   ]
  }
 ],
 "metadata": {
  "kernelspec": {
   "display_name": "Python 3",
   "language": "python",
   "name": "python3"
  },
  "language_info": {
   "codemirror_mode": {
    "name": "ipython",
    "version": 3
   },
   "file_extension": ".py",
   "mimetype": "text/x-python",
   "name": "python",
   "nbconvert_exporter": "python",
   "pygments_lexer": "ipython3",
   "version": "3.8.3"
  }
 },
 "nbformat": 4,
 "nbformat_minor": 4
}
